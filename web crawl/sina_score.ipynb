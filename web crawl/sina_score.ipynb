{
 "cells": [
  {
   "cell_type": "code",
   "execution_count": 1,
   "id": "5bf58c19",
   "metadata": {},
   "outputs": [],
   "source": [
    "import requests\n",
    "from bs4 import BeautifulSoup\n",
    "import pandas as pd\n",
    "import numpy as np\n",
    "import chardet \n",
    "\n",
    "#定义爬取函数\n",
    "def crawl_sina_finance_reports(pages):\n",
    "    base_url = \"https://stock.finance.sina.com.cn/stock/go.php/vReport_List/kind/lastest/index.phtml\"\n",
    "    reports = []\n",
    "    headers = {\n",
    "        'User-Agent': 'Mozilla/5.0 (Windows NT 10.0; Win64; x64) AppleWebKit/537.36 (KHTML, like Gecko) Chrome/58.0.3029.110 Safari/537.3'\n",
    "    }\n",
    "    for page in range(1, pages + 1):\n",
    "        url = f\"{base_url}?p={page}\"\n",
    "        response = requests.get(url,headers=headers)#\n",
    "        # 使用chardet检测编码\n",
    "        detected_encoding = chardet.detect(response.content)['encoding']\n",
    "        if detected_encoding:\n",
    "            #print(detected_encoding)\n",
    "            response.encoding = detected_encoding\n",
    "        else:\n",
    "            response.encoding = 'GB2312'  # 如果chardet无法检测到编码，则默认使用GB2312\n",
    "        soup = BeautifulSoup(response.content)#, 'html.parser'\n",
    " \n",
    "        # 找到所有报道的列表项\n",
    "        report_items = soup.find_all('tr')[1:]  # 跳过表头\n",
    "        for item in report_items:\n",
    "            columns = item.find_all('td')\n",
    "            if len(columns) >= 4:\n",
    "                title = columns[1].text.strip()\n",
    "                kind = columns[2].text.strip()\n",
    "                date = columns[3].text.strip()\n",
    "                organization = columns[4].text.strip()\n",
    "                analysts = columns[5].text.strip()\n",
    "                reports.append([title, kind, date, organization, analysts])\n",
    " \n",
    "    return reports\n",
    " \n",
    "# 爬取数据\n",
    "pages = 10\n",
    "reports_data = crawl_sina_finance_reports(pages)\n",
    "\n",
    "# 创建DataFrame\n",
    "df_reports = pd.DataFrame(reports_data, columns=[\"标题\",'报告类型', \"发布日期\", \"机构\",\"研究员\"])\n",
    "df_reports\n",
    "csv_file = f\"sina_daily.csv\"\n",
    "df_reports.to_csv(csv_file, encoding='utf-8-sig',index=False)"
   ]
  },
  {
   "cell_type": "code",
   "execution_count": 3,
   "id": "d5c0cdad",
   "metadata": {},
   "outputs": [
    {
     "name": "stdout",
     "output_type": "stream",
     "text": [
      "Sentiment scoring completed and results saved to 'sina_result_with_sentiments.csv'.\n"
     ]
    }
   ],
   "source": [
    "from google.cloud import language_v1\n",
    "import os\n",
    "import pandas as pd\n",
    "\n",
    "# Set up authentication for Google Cloud Natural Language API\n",
    "os.environ['GOOGLE_APPLICATION_CREDENTIALS'] = 'civic-network-418910-0aa3df60f95d.json'\n",
    "\n",
    "# Instantiate a client\n",
    "client = language_v1.LanguageServiceClient()\n",
    "\n",
    "def analyze_sentiment(text):\n",
    "    \"\"\"\n",
    "    Using the Google Cloud Natural Language API to analyze sentiment\n",
    "    \"\"\"\n",
    "    document = language_v1.Document(content=text, type_=language_v1.Document.Type.PLAIN_TEXT)\n",
    "    sentiment = client.analyze_sentiment(request={'document': document}).document_sentiment\n",
    "    # Convert sentiment score from -1 (negative) to 1 (positive) scale to a 0-10 scale\n",
    "    score = round((sentiment.score + 1) * 5, 1)\n",
    "    return score\n",
    "\n",
    "# Load your initial scraping result to a DataFrame\n",
    "df = pd.read_csv('sina_daily.csv')\n",
    "\n",
    "# Remove duplicate rows\n",
    "df = df.drop_duplicates()\n",
    "\n",
    "# Ensure text column is string type\n",
    "df['标题'] = df['标题'].astype(str)\n",
    "\n",
    "# Apply sentiment analysis to each row in the 'text' column\n",
    "df['情绪得分'] = df['标题'].apply(analyze_sentiment)\n",
    "\n",
    "# Save the DataFrame with the sentiment scores to a new CSV file\n",
    "df.to_csv('sina_result_with_sentiments.csv', index=False, encoding='utf_8_sig')\n",
    "\n",
    "print(\"Sentiment scoring completed and results saved to 'sina_result_with_sentiments.csv'.\")"
   ]
  },
  {
   "cell_type": "code",
   "execution_count": null,
   "id": "7d3d03c6",
   "metadata": {},
   "outputs": [],
   "source": []
  }
 ],
 "metadata": {
  "kernelspec": {
   "display_name": "Python 3 (ipykernel)",
   "language": "python",
   "name": "python3"
  },
  "language_info": {
   "codemirror_mode": {
    "name": "ipython",
    "version": 3
   },
   "file_extension": ".py",
   "mimetype": "text/x-python",
   "name": "python",
   "nbconvert_exporter": "python",
   "pygments_lexer": "ipython3",
   "version": "3.9.13"
  }
 },
 "nbformat": 4,
 "nbformat_minor": 5
}
