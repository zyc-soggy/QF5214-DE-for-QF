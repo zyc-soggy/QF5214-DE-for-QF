{
 "cells": [
  {
   "cell_type": "code",
   "execution_count": 3,
   "id": "8bf151b8",
   "metadata": {},
   "outputs": [
    {
     "name": "stdout",
     "output_type": "stream",
     "text": [
      "Collecting google-cloud-language\n",
      "  Downloading google_cloud_language-2.13.3-py2.py3-none-any.whl (143 kB)\n",
      "\u001b[2K     \u001b[90m━━━━━━━━━━━━━━━━━━━━━━━━━━━━━━━━━━━━━━━\u001b[0m \u001b[32m143.7/143.7 kB\u001b[0m \u001b[31m4.1 MB/s\u001b[0m eta \u001b[36m0:00:00\u001b[0m\n",
      "\u001b[?25hRequirement already satisfied: pandas in /Users/Lenovo/opt/anaconda3/lib/python3.9/site-packages (1.4.4)\n",
      "Collecting google-auth!=2.24.0,!=2.25.0,<3.0.0dev,>=2.14.1\n",
      "  Downloading google_auth-2.29.0-py2.py3-none-any.whl (189 kB)\n",
      "\u001b[2K     \u001b[90m━━━━━━━━━━━━━━━━━━━━━━━━━━━━━━━━━━━━━━━\u001b[0m \u001b[32m189.2/189.2 kB\u001b[0m \u001b[31m6.6 MB/s\u001b[0m eta \u001b[36m0:00:00\u001b[0m\n",
      "\u001b[?25hCollecting protobuf!=3.20.0,!=3.20.1,!=4.21.0,!=4.21.1,!=4.21.2,!=4.21.3,!=4.21.4,!=4.21.5,<5.0.0dev,>=3.19.5\n",
      "  Downloading protobuf-4.25.3-cp37-abi3-macosx_10_9_universal2.whl (394 kB)\n",
      "\u001b[2K     \u001b[90m━━━━━━━━━━━━━━━━━━━━━━━━━━━━━━━━━━━━━━\u001b[0m \u001b[32m394.2/394.2 kB\u001b[0m \u001b[31m10.4 MB/s\u001b[0m eta \u001b[36m0:00:00\u001b[0m\n",
      "\u001b[?25hCollecting proto-plus<2.0.0dev,>=1.22.3\n",
      "  Downloading proto_plus-1.23.0-py3-none-any.whl (48 kB)\n",
      "\u001b[2K     \u001b[90m━━━━━━━━━━━━━━━━━━━━━━━━━━━━━━━━━━━━━━━━\u001b[0m \u001b[32m48.8/48.8 kB\u001b[0m \u001b[31m2.0 MB/s\u001b[0m eta \u001b[36m0:00:00\u001b[0m\n",
      "\u001b[?25hCollecting google-api-core[grpc]!=2.0.*,!=2.1.*,!=2.10.*,!=2.2.*,!=2.3.*,!=2.4.*,!=2.5.*,!=2.6.*,!=2.7.*,!=2.8.*,!=2.9.*,<3.0.0dev,>=1.34.1\n",
      "  Downloading google_api_core-2.18.0-py3-none-any.whl (138 kB)\n",
      "\u001b[2K     \u001b[90m━━━━━━━━━━━━━━━━━━━━━━━━━━━━━━━━━━━━━━━\u001b[0m \u001b[32m138.3/138.3 kB\u001b[0m \u001b[31m5.4 MB/s\u001b[0m eta \u001b[36m0:00:00\u001b[0m\n",
      "\u001b[?25hRequirement already satisfied: python-dateutil>=2.8.1 in /Users/Lenovo/opt/anaconda3/lib/python3.9/site-packages (from pandas) (2.8.2)\n",
      "Requirement already satisfied: pytz>=2020.1 in /Users/Lenovo/opt/anaconda3/lib/python3.9/site-packages (from pandas) (2022.1)\n",
      "Requirement already satisfied: numpy>=1.18.5 in /Users/Lenovo/opt/anaconda3/lib/python3.9/site-packages (from pandas) (1.21.5)\n",
      "Requirement already satisfied: requests<3.0.0.dev0,>=2.18.0 in /Users/Lenovo/opt/anaconda3/lib/python3.9/site-packages (from google-api-core[grpc]!=2.0.*,!=2.1.*,!=2.10.*,!=2.2.*,!=2.3.*,!=2.4.*,!=2.5.*,!=2.6.*,!=2.7.*,!=2.8.*,!=2.9.*,<3.0.0dev,>=1.34.1->google-cloud-language) (2.28.1)\n",
      "Collecting googleapis-common-protos<2.0.dev0,>=1.56.2\n",
      "  Downloading googleapis_common_protos-1.63.0-py2.py3-none-any.whl (229 kB)\n",
      "\u001b[2K     \u001b[90m━━━━━━━━━━━━━━━━━━━━━━━━━━━━━━━━━━━━━━━\u001b[0m \u001b[32m229.1/229.1 kB\u001b[0m \u001b[31m7.6 MB/s\u001b[0m eta \u001b[36m0:00:00\u001b[0m\n",
      "\u001b[?25hCollecting grpcio<2.0dev,>=1.33.2\n",
      "  Downloading grpcio-1.62.1-cp39-cp39-macosx_10_10_universal2.whl (10.1 MB)\n",
      "\u001b[2K     \u001b[90m━━━━━━━━━━━━━━━━━━━━━━━━━━━━━━━━━━━━━━━━\u001b[0m \u001b[32m10.1/10.1 MB\u001b[0m \u001b[31m14.2 MB/s\u001b[0m eta \u001b[36m0:00:00\u001b[0m00:01\u001b[0m0:01\u001b[0m\n",
      "\u001b[?25hCollecting grpcio-status<2.0.dev0,>=1.33.2\n",
      "  Downloading grpcio_status-1.62.1-py3-none-any.whl (14 kB)\n",
      "Collecting cachetools<6.0,>=2.0.0\n",
      "  Downloading cachetools-5.3.3-py3-none-any.whl (9.3 kB)\n",
      "Collecting rsa<5,>=3.1.4\n",
      "  Downloading rsa-4.9-py3-none-any.whl (34 kB)\n",
      "Requirement already satisfied: pyasn1-modules>=0.2.1 in /Users/Lenovo/opt/anaconda3/lib/python3.9/site-packages (from google-auth!=2.24.0,!=2.25.0,<3.0.0dev,>=2.14.1->google-cloud-language) (0.2.8)\n",
      "Requirement already satisfied: six>=1.5 in /Users/Lenovo/opt/anaconda3/lib/python3.9/site-packages (from python-dateutil>=2.8.1->pandas) (1.16.0)\n",
      "Requirement already satisfied: pyasn1<0.5.0,>=0.4.6 in /Users/Lenovo/opt/anaconda3/lib/python3.9/site-packages (from pyasn1-modules>=0.2.1->google-auth!=2.24.0,!=2.25.0,<3.0.0dev,>=2.14.1->google-cloud-language) (0.4.8)\n",
      "Requirement already satisfied: idna<4,>=2.5 in /Users/Lenovo/opt/anaconda3/lib/python3.9/site-packages (from requests<3.0.0.dev0,>=2.18.0->google-api-core[grpc]!=2.0.*,!=2.1.*,!=2.10.*,!=2.2.*,!=2.3.*,!=2.4.*,!=2.5.*,!=2.6.*,!=2.7.*,!=2.8.*,!=2.9.*,<3.0.0dev,>=1.34.1->google-cloud-language) (3.3)\n",
      "Requirement already satisfied: urllib3<1.27,>=1.21.1 in /Users/Lenovo/opt/anaconda3/lib/python3.9/site-packages (from requests<3.0.0.dev0,>=2.18.0->google-api-core[grpc]!=2.0.*,!=2.1.*,!=2.10.*,!=2.2.*,!=2.3.*,!=2.4.*,!=2.5.*,!=2.6.*,!=2.7.*,!=2.8.*,!=2.9.*,<3.0.0dev,>=1.34.1->google-cloud-language) (1.26.11)\n",
      "Requirement already satisfied: charset-normalizer<3,>=2 in /Users/Lenovo/opt/anaconda3/lib/python3.9/site-packages (from requests<3.0.0.dev0,>=2.18.0->google-api-core[grpc]!=2.0.*,!=2.1.*,!=2.10.*,!=2.2.*,!=2.3.*,!=2.4.*,!=2.5.*,!=2.6.*,!=2.7.*,!=2.8.*,!=2.9.*,<3.0.0dev,>=1.34.1->google-cloud-language) (2.0.4)\n",
      "Requirement already satisfied: certifi>=2017.4.17 in /Users/Lenovo/opt/anaconda3/lib/python3.9/site-packages (from requests<3.0.0.dev0,>=2.18.0->google-api-core[grpc]!=2.0.*,!=2.1.*,!=2.10.*,!=2.2.*,!=2.3.*,!=2.4.*,!=2.5.*,!=2.6.*,!=2.7.*,!=2.8.*,!=2.9.*,<3.0.0dev,>=1.34.1->google-cloud-language) (2022.9.24)\n",
      "Installing collected packages: rsa, protobuf, grpcio, cachetools, proto-plus, googleapis-common-protos, google-auth, grpcio-status, google-api-core, google-cloud-language\n",
      "Successfully installed cachetools-5.3.3 google-api-core-2.18.0 google-auth-2.29.0 google-cloud-language-2.13.3 googleapis-common-protos-1.63.0 grpcio-1.62.1 grpcio-status-1.62.1 proto-plus-1.23.0 protobuf-4.25.3 rsa-4.9\n",
      "Note: you may need to restart the kernel to use updated packages.\n"
     ]
    }
   ],
   "source": [
    "pip install google-cloud-language pandas"
   ]
  },
  {
   "cell_type": "code",
   "execution_count": 4,
   "id": "c8bb3256",
   "metadata": {},
   "outputs": [],
   "source": [
    "import os\n",
    "os.environ[\"GOOGLE_APPLICATION_CREDENTIALS\"] = \"civic-network-418910-0aa3df60f95d.json\""
   ]
  },
  {
   "cell_type": "code",
   "execution_count": 8,
   "id": "186e0d2d",
   "metadata": {},
   "outputs": [
    {
     "name": "stdout",
     "output_type": "stream",
     "text": [
      "数据已保存到CSV文件：comments_300750_p1_to_p2_score.csv\n"
     ]
    }
   ],
   "source": [
    "import os\n",
    "import requests\n",
    "from bs4 import BeautifulSoup\n",
    "import pandas as pd\n",
    "from google.cloud import language_v1\n",
    "\n",
    "def fetch_comments_with_sentiment_google_api(stock_code, start_page, end_page):\n",
    "    client = language_v1.LanguageServiceClient()\n",
    "    all_comments = []\n",
    "\n",
    "    for page_num in range(start_page, end_page + 1):\n",
    "        url = f\"http://guba.eastmoney.com/list,{stock_code},f_{page_num}.html\"\n",
    "        headers = {'User-Agent': 'Mozilla/5.0'}\n",
    "        response = requests.get(url, headers=headers)\n",
    "\n",
    "        if response.status_code == 200:\n",
    "            soup = BeautifulSoup(response.text, 'html.parser')\n",
    "            comments = soup.find_all('tr', class_='listitem')\n",
    "            for comment in comments:\n",
    "                read = comment.find('div', class_='read').text if comment.find('div', class_='read') else 'N/A'\n",
    "                reply = comment.find('div', class_='reply').text if comment.find('div', class_='reply') else 'N/A'\n",
    "                title_div = comment.find('div', class_='title')\n",
    "                title = title_div.get_text(strip=True) if title_div else 'N/A'\n",
    "                author = comment.find('div', class_='author').text if comment.find('div', class_='author') else 'N/A'\n",
    "                update_time = comment.find('div', class_='update').text if comment.find('div', class_='update') else 'N/A'\n",
    "\n",
    "                sentiment_score = get_sentiment_score_google_api(client, title)\n",
    "\n",
    "                all_comments.append({\n",
    "                    \"页码\": page_num,\n",
    "                    \"阅读\": read,\n",
    "                    \"回复\": reply,\n",
    "                    \"标题\": title,\n",
    "                    \"作者\": author,\n",
    "                    \"更新时间\": update_time,\n",
    "                    \"情绪得分\": sentiment_score\n",
    "                })\n",
    "        else:\n",
    "            print(f\"请求失败，状态码：{response.status_code}\")\n",
    "\n",
    "    df = pd.DataFrame(all_comments)\n",
    "    csv_file = f\"comments_{stock_code}_p{start_page}_to_p{end_page}_score.csv\"\n",
    "    df.to_csv(csv_file, index=False, encoding='utf_8_sig')\n",
    "    print(f\"数据已保存到CSV文件：{csv_file}\")\n",
    "\n",
    "def get_sentiment_score_google_api(client, text):\n",
    "    document = language_v1.Document(content=text, type_=language_v1.Document.Type.PLAIN_TEXT)\n",
    "    sentiment = client.analyze_sentiment(request={'document': document}).document_sentiment\n",
    "    # Google Cloud的情绪分数范围是[-1, 1]，我们将它调整到[0, 10]的范围\n",
    "    sentiment_score = (sentiment.score + 1) * 5\n",
    "    return round(sentiment_score, 1)\n",
    "\n",
    "# 示例：爬取宁德时代股吧的第1页到第2页的评论，并保存到CSV，包含情绪得分\n",
    "fetch_comments_with_sentiment_google_api('300750', 1, 2)\n"
   ]
  },
  {
   "cell_type": "code",
   "execution_count": null,
   "id": "0d414c63",
   "metadata": {},
   "outputs": [],
   "source": []
  }
 ],
 "metadata": {
  "kernelspec": {
   "display_name": "Python 3 (ipykernel)",
   "language": "python",
   "name": "python3"
  },
  "language_info": {
   "codemirror_mode": {
    "name": "ipython",
    "version": 3
   },
   "file_extension": ".py",
   "mimetype": "text/x-python",
   "name": "python",
   "nbconvert_exporter": "python",
   "pygments_lexer": "ipython3",
   "version": "3.9.13"
  }
 },
 "nbformat": 4,
 "nbformat_minor": 5
}
