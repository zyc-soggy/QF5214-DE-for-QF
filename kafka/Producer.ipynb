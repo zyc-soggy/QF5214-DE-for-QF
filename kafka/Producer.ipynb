{
 "cells": [
  {
   "cell_type": "code",
   "execution_count": 7,
   "id": "initial_id",
   "metadata": {
    "collapsed": true,
    "ExecuteTime": {
     "end_time": "2024-04-13T08:05:35.098316Z",
     "start_time": "2024-04-13T08:05:35.093133Z"
    }
   },
   "outputs": [],
   "source": [
    "import pandas as pd\n",
    "from kafka import KafkaProducer\n",
    "from time import sleep\n",
    "from json import dumps\n",
    "import time\n",
    "import json\n",
    "import random"
   ]
  },
  {
   "cell_type": "code",
   "outputs": [],
   "source": [
    "producer = KafkaProducer(bootstrap_servers=['3.27.226.3:9092'], #change ip here\n",
    "                         value_serializer=lambda x:\n",
    "                         dumps(x).encode('utf-8'))"
   ],
   "metadata": {
    "collapsed": false,
    "ExecuteTime": {
     "end_time": "2024-04-13T08:05:21.716165Z",
     "start_time": "2024-04-13T08:05:21.401449Z"
    }
   },
   "id": "4994025c54de4d09",
   "execution_count": 5
  },
  {
   "cell_type": "code",
   "outputs": [
    {
     "name": "stdout",
     "output_type": "stream",
     "text": [
      "Producing data: {'timestamp': 1712999000.842058, 'value': 11}\n",
      "Producing data: {'timestamp': 1712999001.8480918, 'value': 34}\n",
      "Producing data: {'timestamp': 1712999002.855631, 'value': 94}\n",
      "Producing data: {'timestamp': 1712999003.8589718, 'value': 58}\n",
      "Producing data: {'timestamp': 1712999004.863903, 'value': 80}\n",
      "Producing data: {'timestamp': 1712999005.8698869, 'value': 91}\n",
      "Producing data: {'timestamp': 1712999006.877238, 'value': 91}\n",
      "Producing data: {'timestamp': 1712999007.882282, 'value': 95}\n",
      "Producing data: {'timestamp': 1712999008.888948, 'value': 1}\n",
      "Producing data: {'timestamp': 1712999009.890395, 'value': 45}\n",
      "Producing data: {'timestamp': 1712999010.897424, 'value': 48}\n",
      "Producing data: {'timestamp': 1712999011.899352, 'value': 25}\n",
      "Producing data: {'timestamp': 1712999012.900973, 'value': 12}\n",
      "Producing data: {'timestamp': 1712999013.906645, 'value': 28}\n",
      "Producing data: {'timestamp': 1712999014.913494, 'value': 14}\n",
      "Producing data: {'timestamp': 1712999015.915735, 'value': 18}\n",
      "Producing data: {'timestamp': 1712999016.9236858, 'value': 17}\n",
      "Producing data: {'timestamp': 1712999017.931316, 'value': 61}\n",
      "Producing data: {'timestamp': 1712999018.937946, 'value': 85}\n",
      "Producing data: {'timestamp': 1712999019.948873, 'value': 66}\n",
      "Producing data: {'timestamp': 1712999020.9550238, 'value': 62}\n",
      "Producing data: {'timestamp': 1712999021.962131, 'value': 82}\n",
      "Producing data: {'timestamp': 1712999022.9640782, 'value': 27}\n",
      "Producing data: {'timestamp': 1712999023.966163, 'value': 94}\n",
      "Producing data: {'timestamp': 1712999024.974251, 'value': 33}\n",
      "Producing data: {'timestamp': 1712999025.97892, 'value': 53}\n",
      "Producing data: {'timestamp': 1712999026.980166, 'value': 77}\n",
      "Producing data: {'timestamp': 1712999027.9866781, 'value': 26}\n",
      "Producing data: {'timestamp': 1712999028.989495, 'value': 94}\n",
      "Producing data: {'timestamp': 1712999029.9959948, 'value': 45}\n",
      "Producing data: {'timestamp': 1712999031.0033689, 'value': 42}\n",
      "Producing data: {'timestamp': 1712999032.009547, 'value': 5}\n",
      "Producing data: {'timestamp': 1712999033.013731, 'value': 38}\n",
      "Producing data: {'timestamp': 1712999034.017761, 'value': 53}\n",
      "Producing data: {'timestamp': 1712999035.0213451, 'value': 80}\n",
      "Producing data: {'timestamp': 1712999036.028407, 'value': 37}\n",
      "Producing data: {'timestamp': 1712999037.034991, 'value': 30}\n",
      "Producing data: {'timestamp': 1712999038.0374131, 'value': 57}\n",
      "Producing data: {'timestamp': 1712999039.044002, 'value': 56}\n",
      "Producing data: {'timestamp': 1712999040.046808, 'value': 53}\n",
      "Producing data: {'timestamp': 1712999041.049223, 'value': 98}\n",
      "Producing data: {'timestamp': 1712999042.051011, 'value': 1}\n",
      "Producing data: {'timestamp': 1712999043.056816, 'value': 26}\n",
      "Producing data: {'timestamp': 1712999044.06101, 'value': 24}\n",
      "Producing data: {'timestamp': 1712999045.06668, 'value': 90}\n",
      "Producing data: {'timestamp': 1712999046.070173, 'value': 81}\n",
      "Producing data: {'timestamp': 1712999047.074084, 'value': 78}\n",
      "Producing data: {'timestamp': 1712999048.0794182, 'value': 56}\n",
      "Producing data: {'timestamp': 1712999049.085495, 'value': 15}\n",
      "Producing data: {'timestamp': 1712999050.089959, 'value': 78}\n",
      "Producing data: {'timestamp': 1712999051.09885, 'value': 100}\n",
      "Producing data: {'timestamp': 1712999052.1063302, 'value': 18}\n",
      "Producing data: {'timestamp': 1712999053.109068, 'value': 73}\n",
      "Producing data: {'timestamp': 1712999054.116673, 'value': 73}\n",
      "Producing data: {'timestamp': 1712999055.123243, 'value': 17}\n",
      "Producing data: {'timestamp': 1712999056.130393, 'value': 71}\n",
      "Producing data: {'timestamp': 1712999057.1338649, 'value': 33}\n",
      "Producing data: {'timestamp': 1712999058.138624, 'value': 100}\n",
      "Producing data: {'timestamp': 1712999059.141768, 'value': 76}\n",
      "Producing data: {'timestamp': 1712999060.145359, 'value': 67}\n",
      "Producing data: {'timestamp': 1712999061.150125, 'value': 10}\n",
      "Producing data: {'timestamp': 1712999062.1551108, 'value': 91}\n",
      "Producing data: {'timestamp': 1712999063.158566, 'value': 91}\n",
      "Producing data: {'timestamp': 1712999064.166077, 'value': 94}\n",
      "Producing data: {'timestamp': 1712999065.170461, 'value': 93}\n",
      "Producing data: {'timestamp': 1712999066.1747782, 'value': 62}\n",
      "Producing data: {'timestamp': 1712999067.181188, 'value': 21}\n",
      "Producing data: {'timestamp': 1712999068.188255, 'value': 61}\n",
      "Producing data: {'timestamp': 1712999069.194896, 'value': 19}\n",
      "Producing data: {'timestamp': 1712999070.2021508, 'value': 97}\n",
      "Producing data: {'timestamp': 1712999071.209453, 'value': 95}\n",
      "Producing data: {'timestamp': 1712999072.216204, 'value': 42}\n",
      "Producing data: {'timestamp': 1712999073.2227142, 'value': 99}\n",
      "Producing data: {'timestamp': 1712999074.229239, 'value': 77}\n",
      "Producing data: {'timestamp': 1712999075.234974, 'value': 84}\n",
      "Producing data: {'timestamp': 1712999076.242629, 'value': 13}\n",
      "Producing data: {'timestamp': 1712999077.249752, 'value': 99}\n",
      "Producing data: {'timestamp': 1712999078.257542, 'value': 15}\n",
      "Producing data: {'timestamp': 1712999079.262472, 'value': 67}\n",
      "Producing data: {'timestamp': 1712999080.267235, 'value': 90}\n",
      "Producing data: {'timestamp': 1712999188.58864, 'value': 61}\n",
      "Producing data: {'timestamp': 1712999189.589891, 'value': 78}\n",
      "Producing data: {'timestamp': 1712999190.6017752, 'value': 95}\n",
      "Producing data: {'timestamp': 1712999191.6106791, 'value': 52}\n",
      "Producing data: {'timestamp': 1712999192.617306, 'value': 36}\n",
      "Producing data: {'timestamp': 1712999193.6276329, 'value': 55}\n",
      "Producing data: {'timestamp': 1712999194.632421, 'value': 71}\n",
      "Producing data: {'timestamp': 1712999195.643444, 'value': 89}\n",
      "Producing data: {'timestamp': 1712999196.648757, 'value': 92}\n",
      "Producing data: {'timestamp': 1712999197.652343, 'value': 71}\n",
      "Producing data: {'timestamp': 1712999198.656321, 'value': 57}\n",
      "Producing data: {'timestamp': 1712999199.6699479, 'value': 10}\n",
      "Producing data: {'timestamp': 1712999200.672616, 'value': 1}\n",
      "Producing data: {'timestamp': 1712999201.676426, 'value': 18}\n",
      "Producing data: {'timestamp': 1712999225.298748, 'value': 81}\n",
      "Producing data: {'timestamp': 1712999226.3080351, 'value': 15}\n",
      "Producing data: {'timestamp': 1712999227.310816, 'value': 91}\n",
      "Producing data: {'timestamp': 1712999228.31671, 'value': 27}\n",
      "Producing data: {'timestamp': 1712999229.329041, 'value': 28}\n",
      "Producing data: {'timestamp': 1712999230.3390532, 'value': 95}\n",
      "Producing data: {'timestamp': 1712999231.347413, 'value': 51}\n",
      "Producing data: {'timestamp': 1712999232.350668, 'value': 70}\n",
      "Producing data: {'timestamp': 1712999233.3532538, 'value': 75}\n",
      "Producing data: {'timestamp': 1712999234.356443, 'value': 92}\n",
      "Producing data: {'timestamp': 1712999235.358646, 'value': 74}\n",
      "Producing data: {'timestamp': 1712999236.36138, 'value': 71}\n",
      "Producing data: {'timestamp': 1712999237.366441, 'value': 46}\n",
      "Producing data: {'timestamp': 1712999373.4115882, 'value': 80}\n",
      "Producing data: {'timestamp': 1712999374.414099, 'value': 100}\n",
      "Producing data: {'timestamp': 1712999375.4184089, 'value': 46}\n",
      "Producing data: {'timestamp': 1712999376.424236, 'value': 70}\n",
      "Producing data: {'timestamp': 1712999377.4339688, 'value': 42}\n",
      "Producing data: {'timestamp': 1712999378.446948, 'value': 59}\n",
      "Producing data: {'timestamp': 1712999379.451912, 'value': 58}\n",
      "Producing data: {'timestamp': 1712999380.459696, 'value': 10}\n",
      "Producing data: {'timestamp': 1712999381.468478, 'value': 27}\n",
      "Producing data: {'timestamp': 1712999382.4796941, 'value': 18}\n",
      "Producing data: {'timestamp': 1712999383.491175, 'value': 58}\n",
      "Producing data: {'timestamp': 1712999384.499595, 'value': 37}\n",
      "Producing data: {'timestamp': 1713000462.5748212, 'value': 38}\n",
      "Producing data: {'timestamp': 1713000463.586539, 'value': 32}\n",
      "Producing data: {'timestamp': 1713000464.592014, 'value': 19}\n",
      "Producing data: {'timestamp': 1713000465.5984719, 'value': 8}\n",
      "Producing data: {'timestamp': 1713000466.608692, 'value': 53}\n",
      "Producing data: {'timestamp': 1713000467.613929, 'value': 73}\n",
      "Producing data: {'timestamp': 1713000483.334282, 'value': 19}\n",
      "Producing data: {'timestamp': 1713000484.342499, 'value': 78}\n",
      "Producing data: {'timestamp': 1713000485.348126, 'value': 71}\n",
      "Producing data: {'timestamp': 1713000486.358835, 'value': 18}\n",
      "Producing data: {'timestamp': 1713000487.362019, 'value': 69}\n",
      "Producing data: {'timestamp': 1713000488.364852, 'value': 22}\n",
      "Producing data: {'timestamp': 1713000489.3708212, 'value': 60}\n",
      "Producing data: {'timestamp': 1713000490.376438, 'value': 44}\n",
      "Producing data: {'timestamp': 1713000491.380506, 'value': 43}\n",
      "Producing data: {'timestamp': 1713000492.3840609, 'value': 7}\n",
      "Producing data: {'timestamp': 1713000493.388771, 'value': 69}\n",
      "Producing data: {'timestamp': 1713000494.394975, 'value': 37}\n",
      "Producing data: {'timestamp': 1713000495.4001632, 'value': 86}\n",
      "Producing data: {'timestamp': 1713000496.40198, 'value': 85}\n",
      "Producing data: {'timestamp': 1713000497.407507, 'value': 33}\n",
      "Producing data: {'timestamp': 1713000498.414282, 'value': 45}\n",
      "Producing data: {'timestamp': 1713000499.4201322, 'value': 72}\n",
      "Producing data: {'timestamp': 1713000500.423358, 'value': 94}\n",
      "Producing data: {'timestamp': 1713000501.428674, 'value': 1}\n",
      "Producing data: {'timestamp': 1713000502.430567, 'value': 5}\n",
      "Producing data: {'timestamp': 1713000503.436047, 'value': 98}\n",
      "Producing data: {'timestamp': 1713000504.442948, 'value': 8}\n"
     ]
    },
    {
     "ename": "KeyboardInterrupt",
     "evalue": "",
     "output_type": "error",
     "traceback": [
      "\u001B[0;31m---------------------------------------------------------------------------\u001B[0m",
      "\u001B[0;31mKeyboardInterrupt\u001B[0m                         Traceback (most recent call last)",
      "Cell \u001B[0;32mIn[15], line 8\u001B[0m\n\u001B[1;32m      6\u001B[0m \u001B[38;5;28mprint\u001B[39m(\u001B[38;5;124mf\u001B[39m\u001B[38;5;124m\"\u001B[39m\u001B[38;5;124mProducing data: \u001B[39m\u001B[38;5;132;01m{\u001B[39;00mdata\u001B[38;5;132;01m}\u001B[39;00m\u001B[38;5;124m\"\u001B[39m)  \u001B[38;5;66;03m# To see the produced data in the console.\u001B[39;00m\n\u001B[1;32m      7\u001B[0m producer\u001B[38;5;241m.\u001B[39msend(\u001B[38;5;124m'\u001B[39m\u001B[38;5;124mStock\u001B[39m\u001B[38;5;124m'\u001B[39m, value\u001B[38;5;241m=\u001B[39mdata)\n\u001B[0;32m----> 8\u001B[0m \u001B[43mtime\u001B[49m\u001B[38;5;241;43m.\u001B[39;49m\u001B[43msleep\u001B[49m\u001B[43m(\u001B[49m\u001B[38;5;241;43m1\u001B[39;49m\u001B[43m)\u001B[49m\n",
      "\u001B[0;31mKeyboardInterrupt\u001B[0m: "
     ]
    }
   ],
   "source": [
    "df=pd.read_csv('guba_sentiments_ningde.csv')\n",
    "for index, row in df.iterrows():\n",
    "    message = row.to_dict()  # 将 DataFrame 的行转换为字典\n",
    "    producer.send(topic, value=message)  # 发送消息\n",
    "    producer.flush()  # 确保所有消息都发送完毕"
   ],
   "metadata": {
    "collapsed": false,
    "ExecuteTime": {
     "end_time": "2024-04-13T09:28:25.491696Z",
     "start_time": "2024-04-13T09:03:20.846725Z"
    }
   },
   "id": "da5a2bef472dd7b8",
   "execution_count": 15
  },
  {
   "cell_type": "markdown",
   "source": [],
   "metadata": {
    "collapsed": false
   },
   "id": "b29689ec37aea64c"
  },
  {
   "cell_type": "markdown",
   "source": [],
   "metadata": {
    "collapsed": false
   },
   "id": "575b195015813c6b"
  }
 ],
 "metadata": {
  "kernelspec": {
   "display_name": "Python 3",
   "language": "python",
   "name": "python3"
  },
  "language_info": {
   "codemirror_mode": {
    "name": "ipython",
    "version": 2
   },
   "file_extension": ".py",
   "mimetype": "text/x-python",
   "name": "python",
   "nbconvert_exporter": "python",
   "pygments_lexer": "ipython2",
   "version": "2.7.6"
  }
 },
 "nbformat": 4,
 "nbformat_minor": 5
}
